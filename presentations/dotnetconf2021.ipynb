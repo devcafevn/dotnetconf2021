{
 "cells": [
  {
   "cell_type": "markdown",
   "metadata": {},
   "source": [
    "# ML.NET demo"
   ]
  },
  {
   "cell_type": "markdown",
   "metadata": {},
   "source": [
    "## Chuẩn bị môi trường cho ML.NET"
   ]
  },
  {
   "cell_type": "markdown",
   "metadata": {},
   "source": [
    "**1. Cài đặt .NET Interactive, dotnet try**\n",
    "```bash\n",
    "dotnet tool install -g --add-source \"https://pkgs.dev.azure.com/dnceng/public/_packaging/dotnet-tools/nuget/v3/index.json\" Microsoft.dotnet-try\n",
    "\n",
    "```\n",
    "\n",
    "**2. Cài đặt Jupyter Notebook**\n",
    "\n",
    "https://jupyter.org/install\n",
    "\n",
    "**3. Cài đặt .NET Interactive**\n",
    "\n",
    "```bash\n",
    "dotnet tool install -g --add-source \"https://pkgs.dev.azure.com/dnceng/public/_packaging/dotnet-tools/nuget/v3/index.json\" Microsoft.dotnet-interactive\n",
    "```"
   ]
  },
  {
   "cell_type": "markdown",
   "metadata": {},
   "source": [
    "## Demo 1 - Xin chào ML.NET"
   ]
  },
  {
   "cell_type": "markdown",
   "metadata": {},
   "source": [
    "### Cài đặt nuget packages"
   ]
  },
  {
   "cell_type": "code",
   "execution_count": null,
   "metadata": {
    "dotnet_interactive": {
     "language": "csharp"
    }
   },
   "outputs": [
    {
     "data": {
      "text/html": [
       "<div><div><strong>Restore sources</strong><ul><li><span>https://pkgs.dev.azure.com/dnceng/public/_packaging/dotnet-tools/nuget/v3/index.json</span></li><li><span>https://pkgs.dev.azure.com/dnceng/public/_packaging/dotnet6/nuget/v3/index.json</span></li></ul></div><div></div><div><strong>Installed Packages</strong><ul><li><span>Microsoft.Data.Analysis, 0.19.0</span></li><li><span>Microsoft.ML, 1.7.0</span></li><li><span>Microsoft.ML.AutoML, 0.19.0</span></li><li><span>XPlot.Plotly.Interactive, 4.0.4</span></li></ul></div></div>"
      ]
     },
     "metadata": {},
     "output_type": "display_data"
    }
   ],
   "source": [
    "#i \"nuget:https://pkgs.dev.azure.com/dnceng/public/_packaging/dotnet6/nuget/v3/index.json\" \n",
    "#i \"nuget:https://pkgs.dev.azure.com/dnceng/public/_packaging/dotnet-tools/nuget/v3/index.json\" \n",
    "\n",
    "#r \"nuget:Microsoft.ML, 1.7.0\"\n",
    "#r \"nuget:Microsoft.ML.AutoML, 0.19.0\"\n",
    "#r \"nuget:Microsoft.Data.Analysis, 0.19.0\"\n",
    "#r \"nuget:XPlot.Plotly.Interactive, 4.0.4\"\n"
   ]
  },
  {
   "cell_type": "markdown",
   "metadata": {},
   "source": [
    "### Chuẩn bị Dữ liệu"
   ]
  },
  {
   "cell_type": "code",
   "execution_count": null,
   "metadata": {
    "dotnet_interactive": {
     "language": "csharp"
    }
   },
   "outputs": [],
   "source": [
    "using Microsoft.ML;\n",
    "using Microsoft.ML.Data;\n",
    "\n",
    "public class HousingData\n",
    "{\n",
    "    [LoadColumn(0)]\n",
    "    public float Size { get; set; }\n",
    "\n",
    "    [LoadColumn(1, 3)]\n",
    "    [VectorType(3)]\n",
    "    public float[] HistoricalPrices { get; set; }\n",
    "\n",
    "    [LoadColumn(4)]\n",
    "    [ColumnName(\"Label\")]\n",
    "    public float CurrentPrice { get; set; }\n",
    "}\n",
    "\n",
    "public class Prediction\n",
    "{\n",
    "    [ColumnName(\"Score\")]\n",
    "    public float PredictedPrice { get; set; }\n",
    "}\n"
   ]
  },
  {
   "cell_type": "markdown",
   "metadata": {},
   "source": [
    "Giả sữ ta có dữ liệu như sau:"
   ]
  },
  {
   "cell_type": "code",
   "execution_count": null,
   "metadata": {
    "dotnet_interactive": {
     "language": "csharp"
    }
   },
   "outputs": [],
   "source": [
    "\n",
    "HousingData[] housingData = new HousingData[]\n",
    "{\n",
    "    new HousingData\n",
    "    {\n",
    "        Size = 600f,\n",
    "        HistoricalPrices = new float[] { 100000f ,125000f ,122000f },\n",
    "        CurrentPrice = 170000f\n",
    "    },\n",
    "    new HousingData\n",
    "    {\n",
    "        Size = 1000f,\n",
    "        HistoricalPrices = new float[] { 200000f, 250000f, 230000f },\n",
    "        CurrentPrice = 225000f\n",
    "    },\n",
    "    new HousingData\n",
    "    {\n",
    "        Size = 1000f,\n",
    "        HistoricalPrices = new float[] { 126000f, 130000f, 200000f },\n",
    "        CurrentPrice = 195000f\n",
    "    },\n",
    "    new HousingData\n",
    "    {\n",
    "        Size = 850f,\n",
    "        HistoricalPrices = new float[] { 150000f,175000f,210000f },\n",
    "        CurrentPrice = 205000f\n",
    "    },\n",
    "    new HousingData\n",
    "    {\n",
    "        Size = 900f,\n",
    "        HistoricalPrices = new float[] { 155000f, 190000f, 220000f },\n",
    "        CurrentPrice = 210000f\n",
    "    },\n",
    "    new HousingData\n",
    "    {\n",
    "        Size = 550f,\n",
    "        HistoricalPrices = new float[] { 99000f, 98000f, 130000f },\n",
    "        CurrentPrice = 180000f\n",
    "    }\n",
    "};\n"
   ]
  },
  {
   "cell_type": "markdown",
   "metadata": {},
   "source": [
    "### Huấn luyện model"
   ]
  },
  {
   "cell_type": "code",
   "execution_count": null,
   "metadata": {
    "dotnet_interactive": {
     "language": "csharp"
    }
   },
   "outputs": [],
   "source": [
    "MLContext mlContext = new MLContext();\n",
    "\n",
    "// Load dữ liệu lên\n",
    "IDataView trainingData = mlContext.Data.LoadFromEnumerable(housingData);\n",
    "\n",
    "// Chia dữ liệu ra 2 phần, trainset & testset\n",
    "var dataSplit = mlContext.Data.TrainTestSplit(trainingData, testFraction: 0.2);\n",
    "\n",
    "IDataView trainData = dataSplit.TrainSet;\n",
    "IDataView testData = dataSplit.TestSet;\n",
    "\n",
    "// Nomornalize dữ liệu\n",
    "var pipeline = mlContext.Transforms.Concatenate(\"Features\", new[] { \"Size\", \"HistoricalPrices\" })\n",
    "                    .Append(mlContext.Transforms.NormalizeMinMax(\"Features\"));\n",
    "                    \n",
    "ITransformer dataPrepTransformer = pipeline.Fit(trainData);\n",
    "IDataView transformedTrainingData = dataPrepTransformer.Transform(trainData);\n",
    "\n",
    "// Train model\n",
    "var sdcaEstimator =  pipeline.Append(mlContext.Regression.Trainers.Sdca());\n",
    "var trainedModel = sdcaEstimator.Fit(transformedTrainingData);\n"
   ]
  },
  {
   "cell_type": "markdown",
   "metadata": {
    "dotnet_interactive": {
     "language": "csharp"
    }
   },
   "source": [
    "### Đánh giá model"
   ]
  },
  {
   "cell_type": "code",
   "execution_count": null,
   "metadata": {
    "dotnet_interactive": {
     "language": "csharp"
    }
   },
   "outputs": [
    {
     "data": {
      "text/html": [
       "<div class=\"dni-plaintext\">116746.67619419098</div>"
      ]
     },
     "metadata": {},
     "output_type": "display_data"
    }
   ],
   "source": [
    "IDataView transformedTestData = dataPrepTransformer.Transform(testData);\n",
    "IDataView testDataPredictions = trainedModel.Transform(transformedTestData);\n",
    "RegressionMetrics trainedModelMetrics = mlContext.Regression.Evaluate(testDataPredictions);\n",
    "double rSquared = trainedModelMetrics.RSquared;\n",
    "\n",
    "// Coefficient of Determination\n",
    "display(rSquared)"
   ]
  },
  {
   "cell_type": "markdown",
   "metadata": {},
   "source": [
    "### Lưu model"
   ]
  },
  {
   "cell_type": "code",
   "execution_count": null,
   "metadata": {
    "dotnet_interactive": {
     "language": "csharp"
    }
   },
   "outputs": [],
   "source": [
    "// Save model\n",
    "mlContext.Model.Save(trainedModel, trainingData.Schema, \"./model.zip\");"
   ]
  },
  {
   "cell_type": "markdown",
   "metadata": {
    "dotnet_interactive": {
     "language": "csharp"
    }
   },
   "source": [
    "### Sử dụng model"
   ]
  },
  {
   "cell_type": "markdown",
   "metadata": {},
   "source": [
    "Có thể deploy ở bất kỳ đâu: on-premise, cloud (Azure Functions, AKS, ...)"
   ]
  },
  {
   "cell_type": "code",
   "execution_count": null,
   "metadata": {
    "dotnet_interactive": {
     "language": "csharp"
    }
   },
   "outputs": [
    {
     "name": "stdout",
     "output_type": "stream",
     "text": [
      "Predicted price for size: 750 sq ft= 174941.47k$\n"
     ]
    }
   ],
   "source": [
    "// Load Model\n",
    "DataViewSchema modelSchema;\n",
    "ITransformer trainedModel = mlContext.Model.Load(\"./model.zip\", out modelSchema);\n",
    "\n",
    "// Make a prediction\n",
    "var newHouse = new HousingData\n",
    "{\n",
    "    Size = 750f,\n",
    "    HistoricalPrices = new float[] { 100000f ,125000f ,122000f }\n",
    "};\n",
    "\n",
    "var prediction = mlContext.Model.CreatePredictionEngine<HousingData, Prediction>(trainedModel)\n",
    "                .Predict(newHouse);\n",
    "\n",
    "Console.WriteLine($\"Predicted price for size: {newHouse.Size} sq ft= {prediction.PredictedPrice}k$\");"
   ]
  },
  {
   "cell_type": "markdown",
   "metadata": {},
   "source": [
    "## Demo 2 - Thực hành xây dự một model với AutoML"
   ]
  },
  {
   "cell_type": "code",
   "execution_count": null,
   "metadata": {
    "dotnet_interactive": {
     "language": "csharp"
    }
   },
   "outputs": [],
   "source": [
    "#i \"nuget:https://pkgs.dev.azure.com/dnceng/public/_packaging/dotnet5/nuget/v3/index.json\" \n",
    "#i \"nuget:https://pkgs.dev.azure.com/dnceng/public/_packaging/dotnet-tools/nuget/v3/index.json\" \n",
    "\n",
    "#r \"nuget:Microsoft.ML, 1.7.0\"\n",
    "#r \"nuget:Microsoft.ML.AutoML, 0.19.0\"\n",
    "#r \"nuget:Microsoft.Data.Analysis, 0.19.0\"\n",
    "#r \"nuget:XPlot.Plotly.Interactive, 4.0.4\""
   ]
  },
  {
   "cell_type": "markdown",
   "metadata": {},
   "source": [
    "### Cấu hình cho DataFrame"
   ]
  },
  {
   "cell_type": "code",
   "execution_count": null,
   "metadata": {
    "dotnet_interactive": {
     "language": "csharp"
    }
   },
   "outputs": [],
   "source": [
    "using static Microsoft.DotNet.Interactive.Formatting.PocketViewTags;\n",
    "using Microsoft.DotNet.Interactive.Formatting;\n",
    "using Microsoft.Data.Analysis;\n",
    "using XPlot.Plotly;\n",
    "using Microsoft.AspNetCore.Html;\n",
    "using Microsoft.DotNet.Interactive.Formatting;\n",
    "using static Microsoft.DotNet.Interactive.Formatting.PocketViewTags;\n",
    "\n",
    "Formatter.Register<DataFrame>((df, writer) =>\n",
    "{\n",
    "    var headers = new List<IHtmlContent>();\n",
    "    headers.Add(th(i(\"index\")));\n",
    "    headers.AddRange(df.Columns.Select(c => (IHtmlContent) th(c.Name)));\n",
    "    var rows = new List<List<IHtmlContent>>();\n",
    "    var take = 20;\n",
    "    for (var i = 0; i < Math.Min(take, df.Rows.Count); i++)\n",
    "    {\n",
    "        var cells = new List<IHtmlContent>();\n",
    "        cells.Add(td(i));\n",
    "        foreach (var obj in df.Rows[i])\n",
    "        {\n",
    "            cells.Add(td(obj));\n",
    "        }\n",
    "        rows.Add(cells);\n",
    "    }\n",
    "    \n",
    "    var t = table(\n",
    "        thead(\n",
    "            headers),\n",
    "        tbody(\n",
    "            rows.Select(\n",
    "                r => tr(r))));\n",
    "    \n",
    "    writer.Write(t);\n",
    "}, \"text/html\");"
   ]
  },
  {
   "cell_type": "markdown",
   "metadata": {},
   "source": [
    "### Load & hiển thị dữ liệu"
   ]
  },
  {
   "cell_type": "code",
   "execution_count": null,
   "metadata": {
    "dotnet_interactive": {
     "language": "csharp"
    }
   },
   "outputs": [],
   "source": [
    "var housingData = DataFrame.LoadCsv(\"./housing.csv\");\n",
    "housingData"
   ]
  },
  {
   "cell_type": "code",
   "execution_count": null,
   "metadata": {
    "dotnet_interactive": {
     "language": "csharp"
    }
   },
   "outputs": [],
   "source": [
    "housingData.Description()"
   ]
  },
  {
   "cell_type": "markdown",
   "metadata": {},
   "source": [
    "### Xem dưới dạng Histogram"
   ]
  },
  {
   "cell_type": "code",
   "execution_count": null,
   "metadata": {
    "dotnet_interactive": {
     "language": "csharp"
    }
   },
   "outputs": [],
   "source": [
    "Chart.Plot(\n",
    "    new Histogram()\n",
    "    {\n",
    "        x = housingData.Columns[\"median_house_value\"],\n",
    "        nbinsx = 20\n",
    "    }\n",
    ")"
   ]
  },
  {
   "cell_type": "markdown",
   "metadata": {},
   "source": [
    "### Xem dưới dạng Scatter"
   ]
  },
  {
   "cell_type": "code",
   "execution_count": null,
   "metadata": {
    "dotnet_interactive": {
     "language": "csharp"
    }
   },
   "outputs": [],
   "source": [
    "var chart = Chart.Plot(\n",
    "    new Scattergl()\n",
    "    {\n",
    "        x = housingData.Columns[\"longitude\"],\n",
    "        y = housingData.Columns[\"latitude\"],\n",
    "        mode = \"markers\",\n",
    "        marker = new Marker()\n",
    "        {\n",
    "            color = housingData.Columns[\"median_house_value\"],\n",
    "            colorscale = \"Jet\"\n",
    "        }\n",
    "    }\n",
    ");\n",
    "\n",
    "chart.Width = 600;\n",
    "chart.Height = 600;\n",
    "chart.Display();"
   ]
  },
  {
   "cell_type": "markdown",
   "metadata": {},
   "source": [
    "### Trộn và chia tập dữ liệu train, test"
   ]
  },
  {
   "cell_type": "code",
   "execution_count": null,
   "metadata": {
    "dotnet_interactive": {
     "language": "csharp"
    }
   },
   "outputs": [],
   "source": [
    "static T[] Shuffle<T>(T[] array)\n",
    "{\n",
    "    Random rand = new Random();\n",
    "    for (int i = 0; i < array.Length; i++)\n",
    "    {\n",
    "        int r = i + rand.Next(array.Length - i);\n",
    "        T temp = array[r];\n",
    "        array[r] = array[i];\n",
    "        array[i] = temp;\n",
    "    }\n",
    "    return array;\n",
    "}\n",
    "\n",
    "int[] randomIndices = Shuffle(Enumerable.Range(0, (int)housingData.Rows.Count).ToArray());\n",
    "int testSize = (int)(housingData.Rows.Count * .1);\n",
    "int[] trainRows = randomIndices[testSize..];\n",
    "int[] testRows = randomIndices[..testSize];\n",
    "\n",
    "DataFrame housing_train = housingData[trainRows];\n",
    "DataFrame housing_test = housingData[testRows];\n",
    "\n",
    "housing_train.Rows.Count.Display();\n",
    "housing_test.Rows.Count.Display();"
   ]
  },
  {
   "cell_type": "markdown",
   "metadata": {},
   "source": [
    "### Tạo Experiment với AutoML"
   ]
  },
  {
   "cell_type": "code",
   "execution_count": null,
   "metadata": {
    "dotnet_interactive": {
     "language": "csharp"
    }
   },
   "outputs": [],
   "source": [
    "\n",
    "using Microsoft.ML;\n",
    "using Microsoft.ML.Data;\n",
    "using Microsoft.ML.AutoML;"
   ]
  },
  {
   "cell_type": "code",
   "execution_count": null,
   "metadata": {
    "dotnet_interactive": {
     "language": "csharp"
    }
   },
   "outputs": [],
   "source": [
    "#!time\n",
    "\n",
    "var mlContext = new MLContext();\n",
    "\n",
    "var experiment = mlContext.Auto().CreateRegressionExperiment(maxExperimentTimeInSeconds: 20);\n",
    "var result = experiment.Execute(housing_train, labelColumnName:\"median_house_value\");"
   ]
  },
  {
   "cell_type": "markdown",
   "metadata": {},
   "source": [
    "### Hiển thị xem thuật toán nào tốt nhất"
   ]
  },
  {
   "cell_type": "code",
   "execution_count": null,
   "metadata": {
    "dotnet_interactive": {
     "language": "csharp"
    }
   },
   "outputs": [],
   "source": [
    "var scatters = result.RunDetails.Where(d => d.ValidationMetrics != null).GroupBy(\n",
    "    r => r.TrainerName,\n",
    "    (name, details) => new Scattergl()\n",
    "    {\n",
    "        name = name,\n",
    "        x = details.Select(r => r.RuntimeInSeconds),\n",
    "        y = details.Select(r => r.ValidationMetrics.MeanAbsoluteError),\n",
    "        mode = \"markers\",\n",
    "        marker = new Marker() { size = 12 }\n",
    "    });\n",
    "\n",
    "var chart = Chart.Plot(scatters);\n",
    "chart.WithXTitle(\"Training Time\");\n",
    "chart.WithYTitle(\"Error\");\n",
    "chart.Display();\n",
    "\n",
    "Console.WriteLine($\"Best Trainer:{result.BestRun.TrainerName}\");"
   ]
  },
  {
   "cell_type": "markdown",
   "metadata": {},
   "source": [
    "### Đánh giá best model"
   ]
  },
  {
   "cell_type": "code",
   "execution_count": null,
   "metadata": {
    "dotnet_interactive": {
     "language": "csharp"
    }
   },
   "outputs": [],
   "source": [
    "var testResults = result.BestRun.Model.Transform(housing_test);\n",
    "\n",
    "var trueValues = testResults.GetColumn<float>(\"median_house_value\");\n",
    "var predictedValues = testResults.GetColumn<float>(\"Score\");\n",
    "\n",
    "var predictedVsTrue = new Scattergl()\n",
    "{\n",
    "    x = trueValues,\n",
    "    y = predictedValues,\n",
    "    mode = \"markers\",\n",
    "};\n",
    "\n",
    "var maximumValue = Math.Max(trueValues.Max(), predictedValues.Max());\n",
    "\n",
    "var perfectLine = new Scattergl()\n",
    "{\n",
    "    x = new[] {0, maximumValue},\n",
    "    y = new[] {0, maximumValue},\n",
    "    mode = \"lines\",\n",
    "};\n",
    "\n",
    "var chart = Chart.Plot(new[] {predictedVsTrue, perfectLine });\n",
    "chart.WithXTitle(\"True Values\");\n",
    "chart.WithYTitle(\"Predicted Values\");\n",
    "chart.WithLegend(false);\n",
    "chart.Width = 600;\n",
    "chart.Height = 600;\n",
    "chart.Display();"
   ]
  }
 ],
 "metadata": {
  "celltoolbar": "Slideshow",
  "kernelspec": {
   "display_name": ".NET (C#)",
   "language": "C#",
   "name": ".net-csharp"
  },
  "language_info": {
   "file_extension": ".cs",
   "mimetype": "text/x-csharp",
   "name": "C#",
   "pygments_lexer": "csharp",
   "version": "9.0"
  }
 },
 "nbformat": 4,
 "nbformat_minor": 2
}
